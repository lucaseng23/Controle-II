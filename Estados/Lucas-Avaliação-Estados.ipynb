{
 "cells": [
  {
   "attachments": {},
   "cell_type": "markdown",
   "metadata": {},
   "source": [
    "# Trabalho avaliativo - Sistemas de controle II - 2023.2\n",
    "\n",
    "**Leia com atenção as instruções abaixo**"
   ]
  },
  {
   "attachments": {},
   "cell_type": "markdown",
   "metadata": {},
   "source": [
    "*Informe na célula de código abaixo o seu número de matrícula:* \n",
    "\n",
    "***Não remova as aspas***"
   ]
  },
  {
   "cell_type": "code",
   "execution_count": 30,
   "metadata": {},
   "outputs": [],
   "source": [
    "# Informe aqui sua matrícula\n",
    "mat = '201733940032'"
   ]
  },
  {
   "attachments": {},
   "cell_type": "markdown",
   "metadata": {},
   "source": [
    "*Depois de informar os dados, execute o arquivo inteiro. Caso ocorra algum erro, peça ajuda ao professor*\n",
    "\n",
    "*Resolva as questões abaixo, **justificando** todas as respostas. Utilize markdown para escrever texto e Python para fazer as contas. O trabalho é individual*"
   ]
  },
  {
   "cell_type": "code",
   "execution_count": 31,
   "metadata": {},
   "outputs": [],
   "source": [
    "# \n",
    "# Não modifique esta célula! Você pode comprometer a sua avaliação.\n",
    "from numpy.random import RandomState\n",
    "from IPython.display import display, Math\n",
    "from sympy import symbols, sin, cos, latex\n",
    "from sympy import ImmutableMatrix as matriz\n",
    "from numpy import arange\n",
    "import numpy as np\n",
    "\n",
    "_nn = int(mat[0:4]+mat[-2:])\n",
    "_rng = RandomState(_nn)\n",
    "#_dig = arange(-9,10)\n",
    "#_dig = _dig[_dig!=0]\n",
    "#_n = _rng.randint(0,_dig.size,20)\n",
    "_n = _rng.random(size=(4,)).round(3)\n",
    "def G(): \n",
    "    s = symbols('s')\n",
    "    c = .5+0.10*_n[0]\n",
    "    d = .5+0.25*_n[1]\n",
    "    a = .2+0.15*_n[2]\n",
    "    b = 9+_n[3]\n",
    "    b0 = (b*c**2*d).round(3)\n",
    "    b1 = (a*b*c**2*d).round(3)\n",
    "    G = (b1*s+b0)/((s+c)**2*(s+d))\n",
    "    display(Math('G(s) = ' + latex(G)))"
   ]
  },
  {
   "attachments": {},
   "cell_type": "markdown",
   "metadata": {},
   "source": [
    "## 1."
   ]
  },
  {
   "attachments": {},
   "cell_type": "markdown",
   "metadata": {},
   "source": [
    "*Considere o sistema:*"
   ]
  },
  {
   "cell_type": "code",
   "execution_count": 32,
   "metadata": {},
   "outputs": [
    {
     "data": {
      "text/latex": [
       "$\\displaystyle G(s) = \\frac{0.404 s + 1.459}{\\left(s + 0.523\\right) \\left(s + 0.5419\\right)^{2}}$"
      ],
      "text/plain": [
       "<IPython.core.display.Math object>"
      ]
     },
     "metadata": {},
     "output_type": "display_data"
    }
   ],
   "source": [
    "G()"
   ]
  },
  {
   "attachments": {},
   "cell_type": "markdown",
   "metadata": {},
   "source": [
    "1. *Faça uma análise de malha aberta: verifique estabilidade e características de resposta ao degrau unitário (25%). Opcional: analise o que aconteceria caso fosse utilizada realimentação proporcional (+10% extra)*\n",
    "\n",
    "2. *Proponha especificações de desempenho em malha fechada com base na análise de malha aberta do item 1 (20%).*\n",
    "\n",
    "3. *Projete um compensador de estados de ordem completa, de acordo com as especificações estabelecidas no item 2 e também forneça rejeição à distúrbios do tipo degrau. Justifique as escolhas de todos os pólos e apresente as funções de transferência do compensador ao final (35%).*\n",
    "\n",
    "4. *Analise e simule o sistema em malha fechada. Plote e analise os sinais de saída e de controle (20%). Opcional: faça uma análise de resposta a uma perturbação (+10% extra)*"
   ]
  },
  {
   "attachments": {},
   "cell_type": "markdown",
   "metadata": {},
   "source": [
    "---"
   ]
  },
  {
   "attachments": {},
   "cell_type": "markdown",
   "metadata": {},
   "source": [
    "1. *Faça uma análise de malha aberta: verifique estabilidade e características de resposta ao degrau unitário (25%). Opcional: analise o que aconteceria caso fosse utilizada realimentação proporcional (+10% extra)*"
   ]
  },
  {
   "cell_type": "code",
   "execution_count": 33,
   "metadata": {},
   "outputs": [],
   "source": [
    "import control as ct\n",
    "from matplotlib import pyplot as plt"
   ]
  },
  {
   "attachments": {},
   "cell_type": "markdown",
   "metadata": {},
   "source": [
    "Com o numerador e denominador expandidos, é possível obter a função de transferência com a biblioteca control, assim temos:"
   ]
  },
  {
   "cell_type": "code",
   "execution_count": 34,
   "metadata": {},
   "outputs": [
    {
     "name": "stdout",
     "output_type": "stream",
     "text": [
      "Numerador de Hs   >>  [0.404 1.459]\n",
      "Denominador de Hs >>  [1.         1.6068     0.86048301 0.15358188]\n",
      "\n",
      "\n",
      "Função de Transferência da Planta\n",
      " \n",
      "          0.404 s + 1.459\n",
      "-----------------------------------\n",
      "s^3 + 1.607 s^2 + 0.8605 s + 0.1536\n",
      "\n"
     ]
    }
   ],
   "source": [
    "num = np.array([0.404, 1.459])\n",
    "print(\"Numerador de Hs   >> \", num)\n",
    "\n",
    "den = np.poly([-0.5419, -0.5419,-0.523])\n",
    "print(\"Denominador de Hs >> \", den)\n",
    "\n",
    "Gs = ct.TransferFunction(num, den)\n",
    "print(\"\\n\\nFunção de Transferência da Planta\\n\", Gs)"
   ]
  },
  {
   "attachments": {},
   "cell_type": "markdown",
   "metadata": {},
   "source": [
    "**Obtendo as caracteristicas do sistema em malha aberta**"
   ]
  },
  {
   "cell_type": "code",
   "execution_count": 35,
   "metadata": {},
   "outputs": [
    {
     "name": "stdout",
     "output_type": "stream",
     "text": [
      "_____Eigenvalue______ Damping___ Frequency_\n",
      "   -0.5419                     1     0.5419\n",
      "   -0.5419                     1     0.5419\n",
      "    -0.523                     1      0.523\n"
     ]
    }
   ],
   "source": [
    "ct.damp(Gs);"
   ]
  },
  {
   "attachments": {},
   "cell_type": "markdown",
   "metadata": {},
   "source": [
    "## Estabiblidade em Malha Aberta"
   ]
  },
  {
   "cell_type": "code",
   "execution_count": 36,
   "metadata": {},
   "outputs": [
    {
     "name": "stdout",
     "output_type": "stream",
     "text": [
      "\n",
      "Polos de malha aberta: \n",
      "[-0.5419001+0.j -0.5418999+0.j -0.523    +0.j]\n",
      "\n",
      "Zeros de Malha Aberta: \n",
      "[-3.61138614+0.j]\n"
     ]
    }
   ],
   "source": [
    "print(\"\\nPolos de malha aberta: \")\n",
    "print(ct.poles(Gs))\n",
    "\n",
    "print(\"\\nZeros de Malha Aberta: \")\n",
    "print(ct.zeros(Gs))"
   ]
  },
  {
   "attachments": {},
   "cell_type": "markdown",
   "metadata": {},
   "source": [
    "Os polos do sistema estão no semi-plano esquerdo do plano complexo, isso implica dizer que o sistema é estável. além disso, possui um zero em malha aberta."
   ]
  },
  {
   "attachments": {},
   "cell_type": "markdown",
   "metadata": {},
   "source": [
    "## Simulação da resposta ao degrau unitário\n",
    "\n",
    "Agora será realizada uma simulação em malha aberta para obter a resposta ao degrau unitário afim de conseguir dados referente ao comportamento do sistema em malha aberta, e com isso, poder desenvolver um controlador que melhores o desenpenho do sistema em malha fechada."
   ]
  },
  {
   "cell_type": "code",
   "execution_count": 37,
   "metadata": {},
   "outputs": [
    {
     "data": {
      "image/png": "[encoded data removed]",
      "text/plain": [
       "<Figure size 1000x400 with 1 Axes>"
      ]
     },
     "metadata": {},
     "output_type": "display_data"
    }
   ],
   "source": [
    "t, yout = ct.step_response(Gs, T=20)\n",
    "plt.figure(figsize=(10, 4))\n",
    "plt.plot(t, yout)\n",
    "plt.title(\"Simulação para o degrau unitário\")\n",
    "plt.xlabel(\"tempo (s)\")\n",
    "plt.ylabel(\"amplitude\")\n",
    "plt.grid()\n",
    "plt.show()\n"
   ]
  },
  {
   "cell_type": "code",
   "execution_count": 38,
   "metadata": {},
   "outputs": [
    {
     "name": "stdout",
     "output_type": "stream",
     "text": [
      "Dados da resposta ao degrau\n"
     ]
    },
    {
     "data": {
      "text/plain": [
       "{'RiseTime': 7.871401615765734,\n",
       " 'SettlingTime': nan,\n",
       " 'SettlingMin': 8.580768996155244,\n",
       " 'SettlingMax': 9.499818349116001,\n",
       " 'Overshoot': 0,\n",
       " 'Undershoot': 0,\n",
       " 'Peak': 9.262947259688579,\n",
       " 'PeakTime': 13.207945084081485,\n",
       " 'SteadyStateValue': 9.499818349116001}"
      ]
     },
     "execution_count": 38,
     "metadata": {},
     "output_type": "execute_result"
    }
   ],
   "source": [
    "print(\"Dados da resposta ao degrau\")\n",
    "ct.step_info(Gs)"
   ]
  },
  {
   "attachments": {},
   "cell_type": "markdown",
   "metadata": {},
   "source": [
    "## Controle Proporcional aplicado ao sistema G(s)"
   ]
  },
  {
   "cell_type": "code",
   "execution_count": 39,
   "metadata": {},
   "outputs": [
    {
     "data": {
      "image/png": "[encoded data removed]",
      "text/plain": [
       "<Figure size 1000x400 with 1 Axes>"
      ]
     },
     "metadata": {},
     "output_type": "display_data"
    }
   ],
   "source": [
    "# Controlador proporcional\n",
    "kp = 3\n",
    "Cps = kp\n",
    "Gmf = ct.feedback(Cps*Gs, 1, -1)\n",
    "t1, y1 = ct.step_response(Gmf, T=70)\n",
    "\n",
    "plt.figure(figsize=(10, 4))\n",
    "plt.plot(t1, y1)\n",
    "plt.title(\"Simulação\")\n",
    "plt.xlabel(\"tempo (s)\")\n",
    "plt.ylabel(\"amplitude\")\n",
    "plt.grid()\n",
    "plt.show()\n"
   ]
  },
  {
   "attachments": {},
   "cell_type": "markdown",
   "metadata": {},
   "source": [
    "com o gráfico da simulação do sistema em malha fechada com controle proporcional, podemos ver que o sistema se torna instável, isso também é possível de analisar olhando para os pólos de malha fechda, eles estão no lado direito do plano complexo, ou seja, o sistema é instável para essa condição, dessa forma, podemos concluir que o controlador proporcional não é viável para ser aplicado a esse sistema."
   ]
  },
  {
   "cell_type": "code",
   "execution_count": 40,
   "metadata": {},
   "outputs": [
    {
     "name": "stdout",
     "output_type": "stream",
     "text": [
      "\n",
      "Polos MF:  [-1.82846984+0.j          0.11083492+1.57019593j  0.11083492-1.57019593j]\n"
     ]
    }
   ],
   "source": [
    "print(\"\\nPolos MF: \", ct.poles(Gmf))"
   ]
  },
  {
   "cell_type": "code",
   "execution_count": 41,
   "metadata": {},
   "outputs": [
    {
     "data": {
      "text/plain": [
       "{'RiseTime': 0.7554511449720547,\n",
       " 'SettlingTime': nan,\n",
       " 'SettlingMin': -624.9059165710005,\n",
       " 'SettlingMax': 781.4426474480815,\n",
       " 'Overshoot': 80786.22120029063,\n",
       " 'Undershoot': 64683.285922772164,\n",
       " 'Peak': 781.4426474480815,\n",
       " 'PeakTime': 62.1736292312001,\n",
       " 'SteadyStateValue': 0.9661010687012708}"
      ]
     },
     "execution_count": 41,
     "metadata": {},
     "output_type": "execute_result"
    }
   ],
   "source": [
    "ct.step_info(Gmf)"
   ]
  },
  {
   "attachments": {},
   "cell_type": "markdown",
   "metadata": {},
   "source": [
    "---\n",
    "\n",
    "2. *Proponha especificações de desempenho em malha fechada com base na análise de malha aberta do item 1 (20%).*\n",
    "\n",
    "## Espeficifações do projeto:\n",
    "\n",
    "Ao analisar os dados obtidos na questão 2, podemos aplicar algumas melhorias, para o projeto, será usado os seguintes requisito.\n",
    "\n",
    "- **Sobresinal $\\le 3\\%$**\n",
    "\n",
    "O sobresinal será afetado ao aplicar um controle na planta, porém podemos definir um vamor maximo que o sistema pode ter de sobresinal, no caso desse projeto, vamos considerar que o sistema pode ter no máximo 3% de sobresinal.\n",
    "\n",
    "- **Frequência natural: $w_n$ = $2w_{mad}$\n",
    "\n",
    "$2w_{mad}$ = Frequencia natual do polo de malha aberta dominante\n",
    "\n",
    "Além disso, podemos definir que a frequência natual dos pólos dominante, tenha um aganho, no caso, vamos considerar um ganho de 2 vezes a frequência natural do polo de malha aberta dominante."
   ]
  },
  {
   "attachments": {},
   "cell_type": "markdown",
   "metadata": {},
   "source": [
    "Equação para encontrar o amortecimento em função do sobresial\n",
    "\n",
    "$$\n",
    "\\begin{align}\n",
    "    \\xi &= \\frac{-\\ln{(\\%UP/100)}}{\\sqrt{\\pi^2+\\ln^2{(\\%UP/100)}}}\\\\\n",
    "\\end{align}\n",
    "$$"
   ]
  },
  {
   "cell_type": "code",
   "execution_count": 42,
   "metadata": {},
   "outputs": [
    {
     "data": {
      "text/latex": [
       "$\\xi = 0.7448035391268718$"
      ],
      "text/plain": [
       "<IPython.core.display.Latex object>"
      ]
     },
     "metadata": {},
     "output_type": "display_data"
    },
    {
     "data": {
      "text/latex": [
       "$p_{1,2} = -0.8072\\pm 0.7232j$"
      ],
      "text/plain": [
       "<IPython.core.display.Latex object>"
      ]
     },
     "metadata": {},
     "output_type": "display_data"
    }
   ],
   "source": [
    "from IPython.display import display, Latex\n",
    "wn = 2*0.5419\n",
    "Up = 3\n",
    "xi = (-np.log(Up/100))/(np.sqrt(np.pi**2+np.log(Up/100)**2))\n",
    "display(Latex(f\"$\\\\xi = {xi}$\"))\n",
    "p = -xi*wn+1j*wn*np.sqrt(1-xi**2)\n",
    "display(Latex(f\"$p_{{1,2}} = {np.real(p):.4f}\\pm {np.imag(p):.4f}j$\"))"
   ]
  },
  {
   "attachments": {},
   "cell_type": "markdown",
   "metadata": {},
   "source": [
    "O sistema é de 3a ordem. Com o integrador ficará de 4a (antes do observador). Então, além dos dominantes, precisamos alocar mais dois polos. Vamos colocar um em cima do zero, para cancelar, e outro arbitrário real, 4x maior que a parte real do dominante."
   ]
  },
  {
   "cell_type": "code",
   "execution_count": 43,
   "metadata": {},
   "outputs": [
    {
     "name": "stdout",
     "output_type": "stream",
     "text": [
      "[(-0.8072180757057037+0.7232021973514605j), (-0.8072180757057037-0.7232021973514605j), (-3.6113861386138613+0j), -3.228872302822815]\n",
      "[ 1.          8.45469459 23.87848763 26.86018424 13.69692538]\n"
     ]
    }
   ],
   "source": [
    "polos_desejados = [p,np.conjugate(p),ct.zeros(Gs)[0],4*np.real(p)]\n",
    "print(polos_desejados)\n",
    "poli_mf = np.poly(polos_desejados)\n",
    "print(poli_mf)"
   ]
  },
  {
   "attachments": {},
   "cell_type": "markdown",
   "metadata": {},
   "source": [
    "Então o polinômio desejado é:\n",
    "$$\n",
    "\\begin{align}\n",
    "    \\alpha(s) &=s^4 + 8.45s^3 + 23.878s^2 + 26.86s + 13.69\n",
    "\\end{align}\n",
    "$$\n",
    "\n",
    "Vamos agora definir o sistema no espaço de estados usando FCC"
   ]
  },
  {
   "cell_type": "code",
   "execution_count": 44,
   "metadata": {},
   "outputs": [
    {
     "data": {
      "text/plain": [
       "array([[-1.6068    , -0.86048301, -0.15358188],\n",
       "       [ 1.        ,  0.        ,  0.        ],\n",
       "       [ 0.        ,  1.        ,  0.        ]])"
      ]
     },
     "execution_count": 44,
     "metadata": {},
     "output_type": "execute_result"
    }
   ],
   "source": [
    "F = np.block([[-den[1:]],[np.eye(2), np.zeros((2,1))]])\n",
    "G = np.block([[1],[np.zeros((2,1))]])\n",
    "H = np.block([[0,num]])\n",
    "J = 0\n",
    "n = F.shape[0]\n",
    "\n",
    "F"
   ]
  },
  {
   "attachments": {},
   "cell_type": "markdown",
   "metadata": {},
   "source": [
    "A partir das matrizes acima, podemos aumentar as matrizes para o projeto com integrador:"
   ]
  },
  {
   "cell_type": "code",
   "execution_count": 45,
   "metadata": {},
   "outputs": [
    {
     "name": "stdout",
     "output_type": "stream",
     "text": [
      "[[-1.6068     -0.86048301 -0.15358188  0.        ]\n",
      " [ 1.          0.          0.          0.        ]\n",
      " [ 0.          1.          0.          0.        ]\n",
      " [-0.         -0.404      -1.459       0.        ]]\n",
      "\n",
      "[[1.]\n",
      " [0.]\n",
      " [0.]\n",
      " [0.]]\n"
     ]
    }
   ],
   "source": [
    "Fa = np.block([ [   F,   np.zeros((n,1)) ],\n",
    "                [  -H,   0          ]])\n",
    "\n",
    "Ga = np.block([[G], [0]])\n",
    "\n",
    "print(Fa)\n",
    "print(\"\")\n",
    "print(Ga)"
   ]
  },
  {
   "attachments": {},
   "cell_type": "markdown",
   "metadata": {},
   "source": [
    "\n",
    "Alocação de polos com integrador"
   ]
  },
  {
   "cell_type": "code",
   "execution_count": 46,
   "metadata": {},
   "outputs": [
    {
     "name": "stdout",
     "output_type": "stream",
     "text": [
      "[[ 6.84789459 23.01800462 22.9138965  -9.3878858 ]]\n",
      "\n",
      "[[ 6.84789459 23.01800462 22.9138965 ]]\n",
      "\n",
      "[-9.3878858]\n"
     ]
    }
   ],
   "source": [
    "Ka = ct.acker(Fa,Ga,polos_desejados)\n",
    "K = Ka[:,0:n]\n",
    "Ki = Ka[:,-1]\n",
    "print(Ka)\n",
    "print(\"\")\n",
    "print(K)\n",
    "print(\"\")\n",
    "print(Ki)"
   ]
  },
  {
   "attachments": {},
   "cell_type": "markdown",
   "metadata": {},
   "source": [
    "Será usado Polos do observador reais e iguais, a um fator de 4 da parte real dos pólos dominantes:"
   ]
  },
  {
   "cell_type": "code",
   "execution_count": 47,
   "metadata": {},
   "outputs": [
    {
     "name": "stdout",
     "output_type": "stream",
     "text": [
      "Ganhos do observador. L = \n",
      "[[ 3.1470336 ]\n",
      " [11.07766597]\n",
      " [ 2.47048654]]\n"
     ]
    }
   ],
   "source": [
    "po = 4*np.real(p)\n",
    "#print(po)\n",
    "L = ct.acker(F.T, H.T, [po]*n).T      # [po]*n = repete a lista n vezes, ou seja [po,po,po]\n",
    "print(\"Ganhos do observador. L = \")\n",
    "print(L)"
   ]
  },
  {
   "attachments": {},
   "cell_type": "markdown",
   "metadata": {},
   "source": [
    "#### Equações do controlador"
   ]
  },
  {
   "cell_type": "code",
   "execution_count": 48,
   "metadata": {},
   "outputs": [
    {
     "name": "stdout",
     "output_type": "stream",
     "text": [
      "<LinearIOSystem>: sys[48]\n",
      "Inputs (2): ['u[0]', 'u[1]']\n",
      "Outputs (1): ['y[0]']\n",
      "States (4): ['x[0]', 'x[1]', 'x[2]', 'x[3]']\n",
      "\n",
      "A = [[-8.45469459e+00 -2.51498892e+01 -2.76590004e+01  0.00000000e+00]\n",
      "     [ 1.00000000e+00 -4.47537705e+00 -1.61623147e+01  0.00000000e+00]\n",
      "     [ 0.00000000e+00  1.92343936e-03 -3.60443986e+00  0.00000000e+00]\n",
      "     [ 0.00000000e+00  0.00000000e+00  0.00000000e+00  0.00000000e+00]]\n",
      "\n",
      "B = [[ 3.1470336   0.        ]\n",
      "     [11.07766597  0.        ]\n",
      "     [ 2.47048654  0.        ]\n",
      "     [-1.          1.        ]]\n",
      "\n",
      "C = [[ -6.84789459 -23.01800462 -22.9138965    9.3878858 ]]\n",
      "\n",
      "D = [[0. 0.]]\n",
      "\n"
     ]
    }
   ],
   "source": [
    "Fc = np.block([[F-G@K-L@H, np.zeros((n,1))],[np.zeros((1,n+1))]])\n",
    "Gc = np.block([[L, np.zeros((n,1))],[np.array([-1,1])]])\n",
    "Hc = -Ka\n",
    "cont = ct.ss(Fc,Gc,Hc,0)\n",
    "print(cont)"
   ]
  },
  {
   "attachments": {},
   "cell_type": "markdown",
   "metadata": {},
   "source": [
    "#### Funções de transferência para o controlador"
   ]
  },
  {
   "cell_type": "code",
   "execution_count": 49,
   "metadata": {},
   "outputs": [
    {
     "data": {
      "text/latex": [
       "$$\\begin{bmatrix}\\frac{-342.5 s^3 - 914.3 s^2 - 1537 s - 2134}{s^4 + 16.53 s^3 + 109.6 s^2 + 227.4 s + 3.126 \\times 10^{-13}}\\frac{9.388 s^3 + 155.2 s^2 + 1029 s + 2134}{s^4 + 16.53 s^3 + 109.6 s^2 + 227.4 s + 3.126 \\times 10^{-13}}\\\\ \\end{bmatrix}$$"
      ],
      "text/plain": [
       "TransferFunction([[array([ -342.53267945,  -914.29130015, -1537.43853598, -2134.35365208]), array([   9.3878858 ,  155.22410572, 1029.14311462, 2134.35365208])]], [[array([1.00000000e+00, 1.65345115e+01, 1.09624588e+02, 2.27351898e+02,\n",
       "       3.12638804e-13]), array([1.00000000e+00, 1.65345115e+01, 1.09624588e+02, 2.27351898e+02,\n",
       "       3.12638804e-13])]])"
      ]
     },
     "execution_count": 49,
     "metadata": {},
     "output_type": "execute_result"
    }
   ],
   "source": [
    "(ct.tf(cont))"
   ]
  },
  {
   "attachments": {},
   "cell_type": "markdown",
   "metadata": {},
   "source": [
    "\n",
    "#### Simulação do sisnal de saída e de controle"
   ]
  },
  {
   "cell_type": "code",
   "execution_count": 50,
   "metadata": {},
   "outputs": [
    {
     "name": "stdout",
     "output_type": "stream",
     "text": [
      "_____Eigenvalue______ Damping___ Frequency_\n",
      "     -3.23+0.0006946j          1       3.23\n",
      "     -3.23-0.0006946j          1       3.23\n",
      "    -3.228+0.0006949j          1      3.228\n",
      "    -3.228-0.0006949j          1      3.228\n",
      "   -0.8072   +0.7232j     0.7448      1.084\n",
      "   -0.8072   -0.7232j     0.7448      1.084\n",
      "    -3.611                     1      3.611\n",
      "\n",
      "[-3.22884927+3.98909905e-05j -3.22884927-3.98909905e-05j\n",
      " -3.22891837+0.00000000e+00j -3.61138614+0.00000000e+00j]\n"
     ]
    }
   ],
   "source": [
    "Fmf = np.block([[F,-G@K,-G*Ki],[L@H,F-G@K-L@H,-G*Ki],[-H,np.zeros((1,n+1))]])\n",
    "Gmf = np.block([[np.zeros((2*n,1))],[1]])\n",
    "Hmf_y = np.block([[H,np.zeros((1,n+1))]])\n",
    "Hmf_u = np.block([[-Ka,np.zeros((1,n))]])\n",
    "Jmf = 0\n",
    "MF_y = ct.ss(Fmf,Gmf,Hmf_y,Jmf)\n",
    "MF_u = ct.ss(Fmf,Gmf,Hmf_u,Jmf)\n",
    "#print(MF)\n",
    "T=(ct.damp(MF_y))\n",
    "print(\"\")\n",
    "print(ct.zeros(MF_y))"
   ]
  },
  {
   "cell_type": "code",
   "execution_count": 51,
   "metadata": {},
   "outputs": [
    {
     "data": {
      "text/plain": [
       "{'RiseTime': 2.2157769504869185,\n",
       " 'SettlingTime': 5.6540515288286874,\n",
       " 'SettlingMin': 0.9032650852683004,\n",
       " 'SettlingMax': 1.027721312136138,\n",
       " 'Overshoot': 2.7721312136138048,\n",
       " 'Undershoot': 0,\n",
       " 'Peak': 1.027721312136138,\n",
       " 'PeakTime': 4.737178307937549,\n",
       " 'SteadyStateValue': 0.9999999999999999}"
      ]
     },
     "execution_count": 51,
     "metadata": {},
     "output_type": "execute_result"
    }
   ],
   "source": [
    "ct.step_info(MF_y)"
   ]
  },
  {
   "cell_type": "code",
   "execution_count": 52,
   "metadata": {},
   "outputs": [],
   "source": [
    "ts = 4/abs(np.real(p))\n",
    "t, y = ct.step_response(MF_y,3*ts)\n",
    "t, u = ct.step_response(MF_u,3*ts)\n"
   ]
  },
  {
   "attachments": {},
   "cell_type": "markdown",
   "metadata": {},
   "source": [
    "#### Gráfico do sinal de saída"
   ]
  },
  {
   "cell_type": "code",
   "execution_count": 53,
   "metadata": {},
   "outputs": [
    {
     "name": "stdout",
     "output_type": "stream",
     "text": [
      "1.027721686142029\n"
     ]
    },
    {
     "data": {
      "image/png": "[encoded data removed]",
      "text/plain": [
       "<Figure size 1000x500 with 2 Axes>"
      ]
     },
     "metadata": {},
     "output_type": "display_data"
    }
   ],
   "source": [
    "plt.figure(1, figsize=(10, 5))\n",
    "plt.subplot(211)\n",
    "plt.plot(t, y)\n",
    "plt.title(\"Gráfico do sinal de saída\")\n",
    "plt.xlabel(\"tTempo (s)\")\n",
    "plt.ylabel(\"amplitude\")\n",
    "plt.grid()\n",
    "print(np.max(y))\n",
    "\n",
    "plt.subplot(212)\n",
    "plt.plot(t, u)\n",
    "plt.title(\"Gráfico do sinal de Controle\")\n",
    "plt.xlabel(\"tempo (s)\")\n",
    "plt.ylabel(\"amplitude\")\n",
    "plt.grid()\n",
    "\n",
    "plt.subplots_adjust(hspace=0.5)\n",
    "plt.show()"
   ]
  },
  {
   "attachments": {},
   "cell_type": "markdown",
   "metadata": {},
   "source": [
    "O projeto de controle foi bem sucedido na medida que ao analisar os gráficos de simulação, podemos concluir que o erro em regime é nulo, além de que ao aplicar a função **ct.step_info(MF_y)** temos os requisitos de projeto atendidos, obtendo um sobresinal de 2,77%, e uma frequência Natual dos polos dominantes de 1.084 que é aproximadamente 2 a frequência natural dos polos dominantes de malha aberta.\n",
    "\n",
    "Dessa forma, pode-se afirmar que o projeto foi bem sucedido nos aspectos relacionados ao cumprimento dos requisitos de projeto."
   ]
  }
 ],
 "metadata": {
  "kernelspec": {
   "display_name": "Python 3.9.12 ('base')",
   "language": "python",
   "name": "python3"
  },
  "language_info": {
   "codemirror_mode": {
    "name": "ipython",
    "version": 3
   },
   "file_extension": ".py",
   "mimetype": "text/x-python",
   "name": "python",
   "nbconvert_exporter": "python",
   "pygments_lexer": "ipython3",
   "version": "3.10.8"
  },
  "orig_nbformat": 4,
  "vscode": {
   "interpreter": {
    "hash": "3e3763a57b4ffe0d06e963ec4b7f8ef3a748cbfdb342037439726ee83e94c05b"
   }
  }
 },
 "nbformat": 4,
 "nbformat_minor": 2
}
